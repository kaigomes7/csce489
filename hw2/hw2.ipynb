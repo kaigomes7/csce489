{
 "cells": [
  {
   "cell_type": "markdown",
   "metadata": {},
   "source": [
    "Imports `pandas` library to load data, `numpy` for built-in math functions, and `matplotlib` to make scatterplots"
   ]
  },
  {
   "cell_type": "code",
   "execution_count": 2,
   "metadata": {},
   "outputs": [],
   "source": [
    "import pandas as pd\n",
    "import numpy as np\n",
    "import matplotlib.pyplot as plt"
   ]
  },
  {
   "cell_type": "code",
   "execution_count": 4,
   "metadata": {},
   "outputs": [],
   "source": [
    "data = pd.read_csv(\"intrusion.csv\")"
   ]
  },
  {
   "cell_type": "code",
   "execution_count": 5,
   "metadata": {},
   "outputs": [
    {
     "data": {
      "text/html": [
       "<div>\n",
       "<style scoped>\n",
       "    .dataframe tbody tr th:only-of-type {\n",
       "        vertical-align: middle;\n",
       "    }\n",
       "\n",
       "    .dataframe tbody tr th {\n",
       "        vertical-align: top;\n",
       "    }\n",
       "\n",
       "    .dataframe thead th {\n",
       "        text-align: right;\n",
       "    }\n",
       "</style>\n",
       "<table border=\"1\" class=\"dataframe\">\n",
       "  <thead>\n",
       "    <tr style=\"text-align: right;\">\n",
       "      <th></th>\n",
       "      <th>Attribute1</th>\n",
       "      <th>Attribute2</th>\n",
       "      <th>Attribute3</th>\n",
       "      <th>Intrusion</th>\n",
       "    </tr>\n",
       "  </thead>\n",
       "  <tbody>\n",
       "    <tr>\n",
       "      <th>0</th>\n",
       "      <td>2.157322</td>\n",
       "      <td>1.922947</td>\n",
       "      <td>3.223735</td>\n",
       "      <td>0</td>\n",
       "    </tr>\n",
       "    <tr>\n",
       "      <th>1</th>\n",
       "      <td>1.711650</td>\n",
       "      <td>5.534262</td>\n",
       "      <td>1.519069</td>\n",
       "      <td>0</td>\n",
       "    </tr>\n",
       "    <tr>\n",
       "      <th>2</th>\n",
       "      <td>-1.062710</td>\n",
       "      <td>0.913824</td>\n",
       "      <td>0.715046</td>\n",
       "      <td>0</td>\n",
       "    </tr>\n",
       "    <tr>\n",
       "      <th>3</th>\n",
       "      <td>-0.100344</td>\n",
       "      <td>6.153463</td>\n",
       "      <td>2.250014</td>\n",
       "      <td>0</td>\n",
       "    </tr>\n",
       "    <tr>\n",
       "      <th>4</th>\n",
       "      <td>0.145073</td>\n",
       "      <td>6.553025</td>\n",
       "      <td>2.214019</td>\n",
       "      <td>0</td>\n",
       "    </tr>\n",
       "    <tr>\n",
       "      <th>...</th>\n",
       "      <td>...</td>\n",
       "      <td>...</td>\n",
       "      <td>...</td>\n",
       "      <td>...</td>\n",
       "    </tr>\n",
       "    <tr>\n",
       "      <th>10095</th>\n",
       "      <td>1.249903</td>\n",
       "      <td>5.662992</td>\n",
       "      <td>4.399133</td>\n",
       "      <td>0</td>\n",
       "    </tr>\n",
       "    <tr>\n",
       "      <th>10096</th>\n",
       "      <td>-1.528386</td>\n",
       "      <td>6.275631</td>\n",
       "      <td>0.829751</td>\n",
       "      <td>0</td>\n",
       "    </tr>\n",
       "    <tr>\n",
       "      <th>10097</th>\n",
       "      <td>1.878522</td>\n",
       "      <td>1.958191</td>\n",
       "      <td>1.517479</td>\n",
       "      <td>0</td>\n",
       "    </tr>\n",
       "    <tr>\n",
       "      <th>10098</th>\n",
       "      <td>1.966711</td>\n",
       "      <td>4.945319</td>\n",
       "      <td>-2.253687</td>\n",
       "      <td>0</td>\n",
       "    </tr>\n",
       "    <tr>\n",
       "      <th>10099</th>\n",
       "      <td>-1.607192</td>\n",
       "      <td>5.527978</td>\n",
       "      <td>0.472475</td>\n",
       "      <td>0</td>\n",
       "    </tr>\n",
       "  </tbody>\n",
       "</table>\n",
       "<p>10100 rows × 4 columns</p>\n",
       "</div>"
      ],
      "text/plain": [
       "       Attribute1  Attribute2  Attribute3  Intrusion\n",
       "0        2.157322    1.922947    3.223735          0\n",
       "1        1.711650    5.534262    1.519069          0\n",
       "2       -1.062710    0.913824    0.715046          0\n",
       "3       -0.100344    6.153463    2.250014          0\n",
       "4        0.145073    6.553025    2.214019          0\n",
       "...           ...         ...         ...        ...\n",
       "10095    1.249903    5.662992    4.399133          0\n",
       "10096   -1.528386    6.275631    0.829751          0\n",
       "10097    1.878522    1.958191    1.517479          0\n",
       "10098    1.966711    4.945319   -2.253687          0\n",
       "10099   -1.607192    5.527978    0.472475          0\n",
       "\n",
       "[10100 rows x 4 columns]"
      ]
     },
     "execution_count": 5,
     "metadata": {},
     "output_type": "execute_result"
    }
   ],
   "source": [
    "data"
   ]
  },
  {
   "cell_type": "code",
   "execution_count": 29,
   "metadata": {},
   "outputs": [
    {
     "data": {
      "text/plain": [
       "{0, 1}"
      ]
     },
     "execution_count": 29,
     "metadata": {},
     "output_type": "execute_result"
    }
   ],
   "source": []
  },
  {
   "cell_type": "code",
   "execution_count": 46,
   "metadata": {},
   "outputs": [
    {
     "name": "stderr",
     "output_type": "stream",
     "text": [
      "No handles with labels found to put in legend.\n"
     ]
    },
    {
     "data": {
      "image/png": "[encoded data removed]",
      "text/plain": [
       "<Figure size 432x288 with 1 Axes>"
      ]
     },
     "metadata": {
      "needs_background": "light"
     },
     "output_type": "display_data"
    }
   ],
   "source": [
    "fig, axs = plt.subplots()\n",
    "axs.set_title(\"Attribute Comparison\")\n",
    "axs.legend()\n",
    "axs.scatter(data[data[\"Intrusion\"] == 0][\"Attribute1\"], data[data[\"Intrusion\"] == 0][\"Attribute2\"], color='b')\n",
    "axs.scatter(data[data[\"Intrusion\"] == 1][\"Attribute1\"], data[data[\"Intrusion\"] == 1][\"Attribute2\"], color='c')\n",
    "axs.set(xlabel='Attribute1', ylabel='Attribute2')\n",
    "axs.legend([\"Intrusion 0\", \"Intrusion 1\"])\n",
    "fig.tight_layout()"
   ]
  },
  {
   "cell_type": "code",
   "execution_count": 47,
   "metadata": {},
   "outputs": [
    {
     "name": "stderr",
     "output_type": "stream",
     "text": [
      "No handles with labels found to put in legend.\n"
     ]
    },
    {
     "data": {
      "image/png": "[encoded data removed]",
      "text/plain": [
       "<Figure size 432x288 with 1 Axes>"
      ]
     },
     "metadata": {
      "needs_background": "light"
     },
     "output_type": "display_data"
    }
   ],
   "source": [
    "fig, axs = plt.subplots()\n",
    "axs.set_title(\"Attribute Comparison\")\n",
    "axs.legend()\n",
    "axs.scatter(data[data[\"Intrusion\"] == 0][\"Attribute2\"], data[data[\"Intrusion\"] == 0][\"Attribute3\"], color='c')\n",
    "axs.scatter(data[data[\"Intrusion\"] == 1][\"Attribute2\"], data[data[\"Intrusion\"] == 1][\"Attribute3\"], color='r')\n",
    "axs.set(xlabel='Attribute2', ylabel='Attribute3')\n",
    "axs.legend([\"Intrusion 0\", \"Intrusion 1\"])\n",
    "fig.tight_layout()"
   ]
  }
 ],
 "metadata": {
  "kernelspec": {
   "display_name": "Python 3.7.6 ('env1')",
   "language": "python",
   "name": "python3"
  },
  "language_info": {
   "codemirror_mode": {
    "name": "ipython",
    "version": 3
   },
   "file_extension": ".py",
   "mimetype": "text/x-python",
   "name": "python",
   "nbconvert_exporter": "python",
   "pygments_lexer": "ipython3",
   "version": "3.7.6"
  },
  "orig_nbformat": 4,
  "vscode": {
   "interpreter": {
    "hash": "ad511ddb7bc7263d1c1429069e77735e79ca43f39e7398984826b812170d9ec0"
   }
  }
 },
 "nbformat": 4,
 "nbformat_minor": 2
}
