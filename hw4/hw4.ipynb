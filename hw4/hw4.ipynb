{
 "cells": [
  {
   "cell_type": "code",
   "execution_count": 1,
   "metadata": {},
   "outputs": [],
   "source": [
    "import os\n",
    "import pandas as pd\n",
    "import glob\n",
    "from pathlib import PurePosixPath\n",
    "from sklearn.feature_extraction.text import TfidfVectorizer"
   ]
  },
  {
   "cell_type": "code",
   "execution_count": 2,
   "metadata": {},
   "outputs": [],
   "source": [
    "data_files = [os.path.join(dp, f) for dp, dn, filenames in os.walk(os.getcwd() + '\\\\data') for f in filenames]"
   ]
  },
  {
   "cell_type": "code",
   "execution_count": 3,
   "metadata": {},
   "outputs": [],
   "source": [
    "data_titles = [text[text.index('data')+5:].replace('\\\\', '/') for text in data_files]"
   ]
  },
  {
   "cell_type": "code",
   "execution_count": 4,
   "metadata": {},
   "outputs": [],
   "source": [
    "tfidf_vectorizer = TfidfVectorizer(input='filename', decode_error='ignore')\n",
    "tfidf_vector = tfidf_vectorizer.fit_transform(data_files)"
   ]
  },
  {
   "cell_type": "code",
   "execution_count": 5,
   "metadata": {},
   "outputs": [],
   "source": [
    "tfidf_vector = tfidf_vector.astype('float32')"
   ]
  },
  {
   "cell_type": "code",
   "execution_count": 6,
   "metadata": {},
   "outputs": [],
   "source": [
    "tfidf_df = pd.DataFrame(tfidf_vector.toarray(), index=data_titles, columns=tfidf_vectorizer.get_feature_names_out())"
   ]
  },
  {
   "cell_type": "code",
   "execution_count": 7,
   "metadata": {},
   "outputs": [
    {
     "data": {
      "text/plain": [
       "br             0.450207\n",
       "nbsp           0.256397\n",
       "idris          0.247658\n",
       "abass          0.247658\n",
       "my             0.245418\n",
       "yakubu         0.178371\n",
       "the            0.174478\n",
       "handicapped    0.140560\n",
       "of             0.124310\n",
       "beign          0.123829\n",
       "eessth         0.123829\n",
       "less           0.118239\n",
       "wealth         0.116935\n",
       "privileged     0.107877\n",
       "and            0.106329\n",
       "vanity         0.103164\n",
       "god            0.100608\n",
       "am             0.092338\n",
       "to             0.091515\n",
       "quot           0.087965\n",
       "in             0.087946\n",
       "live           0.084252\n",
       "personal       0.083253\n",
       "for            0.082881\n",
       "joy            0.081082\n",
       "Name: GP/part6/msg9150.eml, dtype: float32"
      ]
     },
     "execution_count": 7,
     "metadata": {},
     "output_type": "execute_result"
    }
   ],
   "source": [
    "tfidf_df.T['GP/part6/msg9150.eml'].sort_values(ascending=False).head(25)"
   ]
  },
  {
   "cell_type": "code",
   "execution_count": 8,
   "metadata": {},
   "outputs": [
    {
     "data": {
      "text/plain": [
       "enron          0.531350\n",
       "skygen         0.334562\n",
       "calpine        0.305998\n",
       "com            0.276489\n",
       "panda          0.161816\n",
       "mw             0.142102\n",
       "the            0.116729\n",
       "michael        0.115139\n",
       "of             0.103342\n",
       "alliance       0.101510\n",
       "oneta          0.100369\n",
       "energy         0.094653\n",
       "development    0.084664\n",
       "turbines       0.084249\n",
       "polsky         0.083619\n",
       "steve          0.079132\n",
       "projects       0.071924\n",
       "under          0.069876\n",
       "will           0.069754\n",
       "and            0.067032\n",
       "larry          0.063496\n",
       "john           0.063084\n",
       "ken            0.061154\n",
       "frank          0.059636\n",
       "gas            0.058011\n",
       "Name: lokay-m/articles/1, dtype: float32"
      ]
     },
     "execution_count": 8,
     "metadata": {},
     "output_type": "execute_result"
    }
   ],
   "source": [
    "tfidf_df.T['lokay-m/articles/1'].sort_values(ascending=False).head(25)"
   ]
  },
  {
   "cell_type": "code",
   "execution_count": 9,
   "metadata": {},
   "outputs": [],
   "source": [
    "import re\n",
    "from sklearn.ensemble import RandomForestClassifier"
   ]
  },
  {
   "cell_type": "code",
   "execution_count": 10,
   "metadata": {},
   "outputs": [],
   "source": [
    "spam_labels = [1 if re.match('GP\\/part[0-9]*\\/.*\\.eml', filename) else 0 for filename in data_titles]"
   ]
  },
  {
   "cell_type": "code",
   "execution_count": 11,
   "metadata": {},
   "outputs": [],
   "source": [
    "X_train = tfidf_df.filter(regex='GP\\/part[0-9]\\/.*\\.eml', axis=0)"
   ]
  },
  {
   "cell_type": "code",
   "execution_count": null,
   "metadata": {},
   "outputs": [],
   "source": [
    "X"
   ]
  },
  {
   "cell_type": "code",
   "execution_count": 12,
   "metadata": {},
   "outputs": [],
   "source": [
    "# X_train = df.filter(regex='string', axis=0)"
   ]
  },
  {
   "cell_type": "code",
   "execution_count": 13,
   "metadata": {},
   "outputs": [],
   "source": [
    "rfc_model = RandomForestClassifier(n_estimators=100)"
   ]
  }
 ],
 "metadata": {
  "kernelspec": {
   "display_name": "Python 3.7.6 ('env1')",
   "language": "python",
   "name": "python3"
  },
  "language_info": {
   "codemirror_mode": {
    "name": "ipython",
    "version": 3
   },
   "file_extension": ".py",
   "mimetype": "text/x-python",
   "name": "python",
   "nbconvert_exporter": "python",
   "pygments_lexer": "ipython3",
   "version": "3.7.6"
  },
  "orig_nbformat": 4,
  "vscode": {
   "interpreter": {
    "hash": "ad511ddb7bc7263d1c1429069e77735e79ca43f39e7398984826b812170d9ec0"
   }
  }
 },
 "nbformat": 4,
 "nbformat_minor": 2
}
